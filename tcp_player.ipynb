{
 "cells": [
  {
   "cell_type": "code",
   "execution_count": 1,
   "metadata": {},
   "outputs": [
    {
     "name": "stderr",
     "output_type": "stream",
     "text": [
      "Using TensorFlow backend.\n"
     ]
    }
   ],
   "source": [
    "import keras\n",
    "from keras.models import Sequential\n",
    "from keras.layers import Dense\n",
    "\n",
    "import tensorflow as tf\n",
    "\n",
    "import numpy as np\n",
    "\n",
    "model = Sequential()\n",
    "model.add(Dense(64, input_dim=53, activation='relu'))\n",
    "model.add(Dense(128, activation='relu'))\n",
    "model.add(Dense(64, activation='relu'))\n",
    "model.add(Dense(16, activation='relu'))\n",
    "model.add(Dense(1, activation='relu'))\n",
    "\n",
    "model.compile(loss='mse', optimizer='adam')"
   ]
  },
  {
   "cell_type": "code",
   "execution_count": 2,
   "metadata": {},
   "outputs": [],
   "source": [
    "def vote(situation):\n",
    "    return b'\\x00'"
   ]
  },
  {
   "cell_type": "code",
   "execution_count": 3,
   "metadata": {},
   "outputs": [],
   "source": [
    "import random\n",
    "\n",
    "random.seed(1234)\n",
    "\n",
    "def get_n_actions(situation):\n",
    "    for i in range(1,9):\n",
    "        if situation[-2*i] != 0xFF:\n",
    "            return 8-i+1\n",
    "    return 0\n",
    "\n",
    "def find_max(input_vector, n_actions):\n",
    "    max_score = 0\n",
    "    max_action = 0\n",
    "    for i in range(n_actions):\n",
    "        input_vector[-1] = i\n",
    "        score = model.predict(np.array([input_vector]))\n",
    "        if score > max_score:\n",
    "            max_score = score\n",
    "            max_action = i\n",
    "    input_vector[-1] = max_action\n",
    "    return max_score\n",
    "\n",
    "def play(input_vector, n_actions):\n",
    "    if random.random() > 0.95:\n",
    "        input_vector[-1] = random.randrange(n_actions)\n",
    "    else:\n",
    "        find_max(input_vector, n_actions)\n",
    "    return input_vector[-1]\n",
    "\n",
    "def situation_to_input_vector(situation):\n",
    "    situation.append(0)\n",
    "    return np.asarray(situation)"
   ]
  },
  {
   "cell_type": "code",
   "execution_count": 4,
   "metadata": {},
   "outputs": [],
   "source": [
    "prev_state = None\n",
    "last_action = None\n",
    "memory_input = list()\n",
    "memory_label = list()"
   ]
  },
  {
   "cell_type": "code",
   "execution_count": 5,
   "metadata": {},
   "outputs": [],
   "source": [
    "def conv_bytes_to_ints(byte_array):\n",
    "    return list(byte_array)"
   ]
  },
  {
   "cell_type": "code",
   "execution_count": 6,
   "metadata": {},
   "outputs": [],
   "source": [
    "def produce_label(reward, state_new):\n",
    "    max_score = find_max(state_new, get_n_actions(state_new))\n",
    "    return reward + 0.5 * max_score"
   ]
  },
  {
   "cell_type": "code",
   "execution_count": 7,
   "metadata": {},
   "outputs": [],
   "source": [
    "def complete_request(payload_size, connection):\n",
    "    data = list()\n",
    "    while len(data) < payload_size:\n",
    "        data += connection.recv(payload_size-len(data))\n",
    "    return data"
   ]
  },
  {
   "cell_type": "code",
   "execution_count": 8,
   "metadata": {},
   "outputs": [],
   "source": [
    "import socket\n",
    "\n",
    "sock = socket.socket(socket.AF_INET, socket.SOCK_STREAM)\n",
    "serv_addr = (\"0.0.0.0\", 8080)\n",
    "sock.bind(serv_addr)\n",
    "sock.listen(1)"
   ]
  },
  {
   "cell_type": "code",
   "execution_count": null,
   "metadata": {},
   "outputs": [],
   "source": [
    "while True:\n",
    "    connection, client_address = sock.accept()\n",
    "    prev_state_action = None\n",
    "\n",
    "    while True:\n",
    "        cmd = connection.recv(4)\n",
    "        \n",
    "        if cmd.decode() == \"VOTE\":\n",
    "            complete_request(36, connection)\n",
    "            connection.send(b'\\x00')\n",
    "        \n",
    "        elif cmd.decode() == \"PLAY\":\n",
    "            situation = complete_request(52, connection)\n",
    "            n_actions = get_n_actions(situation)\n",
    "            assert n_actions, situation\n",
    "            input_vector = situation_to_input_vector(situation)\n",
    "            prev_state_action = input_vector\n",
    "            last_action = play(input_vector, n_actions)\n",
    "            connection.send(int(last_action).to_bytes(1,\"big\"))\n",
    "        \n",
    "        elif cmd.decode() == \"RSLT\":\n",
    "            result = complete_request(53, connection)\n",
    "            memory_input.append(prev_state_action)\n",
    "            new_state = conv_bytes_to_ints(result[1:53])\n",
    "            label = produce_label(result[0], situation_to_input_vector(new_state))\n",
    "            memory_label.append(label)\n",
    "            connection.send(b'\\x00')\n",
    "        \n",
    "        else:\n",
    "            break"
   ]
  },
  {
   "cell_type": "code",
   "execution_count": 11,
   "metadata": {},
   "outputs": [
    {
     "name": "stdout",
     "output_type": "stream",
     "text": [
      "Epoch 1/20\n",
      "204272/204272 [==============================] - 17s 83us/step - loss: 171.7983\n",
      "Epoch 2/20\n",
      "204272/204272 [==============================] - 18s 88us/step - loss: 171.1465\n",
      "Epoch 3/20\n",
      "204272/204272 [==============================] - 18s 88us/step - loss: 170.5166\n",
      "Epoch 4/20\n",
      "204272/204272 [==============================] - 19s 92us/step - loss: 170.0820\n",
      "Epoch 5/20\n",
      "204272/204272 [==============================] - 18s 90us/step - loss: 169.7066\n",
      "Epoch 6/20\n",
      "204272/204272 [==============================] - 18s 89us/step - loss: 169.3257\n",
      "Epoch 7/20\n",
      "204272/204272 [==============================] - 18s 90us/step - loss: 168.8765\n",
      "Epoch 8/20\n",
      "204272/204272 [==============================] - 18s 89us/step - loss: 168.7113\n",
      "Epoch 9/20\n",
      "204272/204272 [==============================] - 17s 84us/step - loss: 168.4358\n",
      "Epoch 10/20\n",
      "204272/204272 [==============================] - 17s 85us/step - loss: 168.2437\n",
      "Epoch 11/20\n",
      "204272/204272 [==============================] - 18s 89us/step - loss: 168.0690\n",
      "Epoch 12/20\n",
      "204272/204272 [==============================] - 18s 86us/step - loss: 167.7525\n",
      "Epoch 13/20\n",
      "204272/204272 [==============================] - 20s 99us/step - loss: 167.5274\n",
      "Epoch 14/20\n",
      "204272/204272 [==============================] - 20s 96us/step - loss: 167.3485\n",
      "Epoch 15/20\n",
      "204272/204272 [==============================] - 19s 94us/step - loss: 167.2888\n",
      "Epoch 16/20\n",
      "204272/204272 [==============================] - 19s 92us/step - loss: 167.0462\n",
      "Epoch 17/20\n",
      "204272/204272 [==============================] - 19s 94us/step - loss: 166.7112\n",
      "Epoch 18/20\n",
      "204272/204272 [==============================] - 18s 88us/step - loss: 166.6861\n",
      "Epoch 19/20\n",
      "204272/204272 [==============================] - 18s 88us/step - loss: 166.5526\n",
      "Epoch 20/20\n",
      "204272/204272 [==============================] - 18s 87us/step - loss: 166.2328\n"
     ]
    },
    {
     "data": {
      "text/plain": [
       "<keras.callbacks.callbacks.History at 0x7f9fd6c3dbe0>"
      ]
     },
     "execution_count": 11,
     "metadata": {},
     "output_type": "execute_result"
    }
   ],
   "source": [
    "model.fit(np.asarray(memory_input), np.asarray(memory_label), epochs=20)"
   ]
  },
  {
   "cell_type": "code",
   "execution_count": null,
   "metadata": {},
   "outputs": [],
   "source": []
  }
 ],
 "metadata": {
  "kernelspec": {
   "display_name": "Python 3",
   "language": "python",
   "name": "python3"
  },
  "language_info": {
   "codemirror_mode": {
    "name": "ipython",
    "version": 3
   },
   "file_extension": ".py",
   "mimetype": "text/x-python",
   "name": "python",
   "nbconvert_exporter": "python",
   "pygments_lexer": "ipython3",
   "version": "3.6.9"
  }
 },
 "nbformat": 4,
 "nbformat_minor": 2
}
